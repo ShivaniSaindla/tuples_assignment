{
 "cells": [
  {
   "cell_type": "markdown",
   "id": "36274e8b",
   "metadata": {},
   "source": [
    "# 1. Find elements frequency in tuples "
   ]
  },
  {
   "cell_type": "code",
   "execution_count": 3,
   "id": "88cb3b5d",
   "metadata": {},
   "outputs": [
    {
     "data": {
      "text/plain": [
       "{4: 2, 5: 3, 6: 2}"
      ]
     },
     "execution_count": 3,
     "metadata": {},
     "output_type": "execute_result"
    }
   ],
   "source": [
    "a=(4,5,4,5,6,6,5)\n",
    "s={}\n",
    "for i in a:\n",
    "    s[i]=a.count(i)\n",
    "s"
   ]
  },
  {
   "cell_type": "markdown",
   "id": "dcc5b4d0",
   "metadata": {},
   "source": [
    "# 2. Python program to sort a list of tuples alphabetically"
   ]
  },
  {
   "cell_type": "code",
   "execution_count": 4,
   "id": "e244176b",
   "metadata": {},
   "outputs": [
    {
     "data": {
      "text/plain": [
       "[('aa', 30), ('aaaa', 28), ('bab', 29), ('bb', 21), ('csa', 'c')]"
      ]
     },
     "execution_count": 4,
     "metadata": {},
     "output_type": "execute_result"
    }
   ],
   "source": [
    "t1=[(\"aaaa\",28),(\"aa\",30),(\"bab\",29),(\"bb\",21),(\"csa\",\"c\")]\n",
    "t1.sort()\n",
    "t1"
   ]
  },
  {
   "cell_type": "markdown",
   "id": "12ac2488",
   "metadata": {},
   "source": [
    "# 3. Write a Python program to calculate the average value of the numbers in a given tuple of tuples."
   ]
  },
  {
   "cell_type": "code",
   "execution_count": 5,
   "id": "15d17a41",
   "metadata": {},
   "outputs": [
    {
     "name": "stdout",
     "output_type": "stream",
     "text": [
      "Average value of the numbers of the said tuple of tuples is : [25.5, -18.0, 3.75]\n"
     ]
    }
   ],
   "source": [
    "t=((1,1,-5),(30,-15,56),(81,-60,-39),(-10,2,3))\n",
    "average=[a1,a2,a3]\n",
    "a1=0\n",
    "a2=0\n",
    "a3=0\n",
    "for i in t:\n",
    "    a1+=i[0]/len(t)\n",
    "    a2+=i[1]/len(t)\n",
    "    a3+=i[2]/len(t)\n",
    "print(\"Average value of the numbers of the said tuple of tuples is :\",average)\n"
   ]
  },
  {
   "cell_type": "code",
   "execution_count": null,
   "id": "465f545d",
   "metadata": {},
   "outputs": [],
   "source": []
  }
 ],
 "metadata": {
  "kernelspec": {
   "display_name": "Python 3 (ipykernel)",
   "language": "python",
   "name": "python3"
  },
  "language_info": {
   "codemirror_mode": {
    "name": "ipython",
    "version": 3
   },
   "file_extension": ".py",
   "mimetype": "text/x-python",
   "name": "python",
   "nbconvert_exporter": "python",
   "pygments_lexer": "ipython3",
   "version": "3.9.13"
  }
 },
 "nbformat": 4,
 "nbformat_minor": 5
}
